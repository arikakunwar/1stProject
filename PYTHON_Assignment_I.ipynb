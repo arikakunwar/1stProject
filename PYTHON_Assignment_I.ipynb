{
  "nbformat": 4,
  "nbformat_minor": 0,
  "metadata": {
    "colab": {
      "name": "PYTHON_Assignment_I.ipynb",
      "provenance": [],
      "collapsed_sections": [],
      "include_colab_link": true
    },
    "kernelspec": {
      "name": "python3",
      "display_name": "Python 3"
    }
  },
  "cells": [
    {
      "cell_type": "markdown",
      "metadata": {
        "id": "view-in-github",
        "colab_type": "text"
      },
      "source": [
        "<a href=\"https://colab.research.google.com/github/arikakunwar/1stProject/blob/master/PYTHON_Assignment_I.ipynb\" target=\"_parent\"><img src=\"https://colab.research.google.com/assets/colab-badge.svg\" alt=\"Open In Colab\"/></a>"
      ]
    },
    {
      "cell_type": "markdown",
      "metadata": {
        "id": "uiK0fGWOnXcQ"
      },
      "source": [
        "Book :- \r\n",
        "Author :- Mark Lutz \r\n",
        "1. Learning Python 5th Edition O'Reilly\r\n",
        "2.Python Cookbook  David Beazley O'Reilly \r\n",
        "\r\n",
        "Link:- \r\n",
        "1. http://www.cs.uni.edu/~fienup/cs051f10/lectures/\r\n",
        "2. https://github.com/MrAlex6204/Books/blob/master/Learning%20Python%2C%205th%20Edition.pdf\r\n",
        "3. https://github.com/tomarraj008/data_books/blob/master/Python%20Cookbook%2C%203rd%20Edition.pdf\r\n",
        "\r\n"
      ]
    },
    {
      "cell_type": "markdown",
      "metadata": {
        "id": "g5RW89-P01bg"
      },
      "source": [
        "First Week Assignment \r\n",
        "\r\n",
        "Test Your Knowledge: Quiz \r\n",
        "\r\n",
        "1. What are the six main reasons that people choose to use Python?\r\n",
        "2. Name four notable companies or organizations using Python today.\r\n",
        "3. Why might you not want to use Python in an application?\r\n",
        "4. What can you do with Python?\r\n",
        "5. What’s the significance of the Python import this statement?\r\n",
        "6. Why does “spam” show up in so many Python examples in books and on the Web?\r\n",
        "7. What is your favorite color?\r\n",
        "\r\n",
        "\r\n",
        "Test Your Knowledge: Quiz\r\n",
        "1. What is the Python interpreter?\r\n",
        "2. What is source code?\r\n",
        "3. What is byte code?\r\n",
        "4. What is the PVM?\r\n",
        "5. Name two or more variations on Python’s standard execution model.\r\n",
        "6. How are CPython, Jython, and IronPython different?\r\n",
        "7. What are Stackless and PyPy?\r\n",
        "\r\n",
        "Test Your Knowledge: Quiz\r\n",
        "1. How can you start an interactive interpreter session?\r\n",
        "2. Where do you type a system command line to launch a script file?\r\n",
        "3. Name four or more ways to run the code saved in a script file.\r\n",
        "4. Name two pitfalls related to clicking file icons on Windows.\r\n",
        "5. Why might you need to reload a module?\r\n",
        "6. How do you run a script from within IDLE?\r\n",
        "7. Name two pitfalls related to using IDLE.\r\n",
        "8. What is a namespace, and how does it relate to module files?\r\n",
        "\r\n",
        "\r\n",
        "Test Your Knowledge: Quiz\r\n",
        "\r\n",
        "1. Name four of Python’s core data types.\r\n",
        "2. Why are they called “core” data types?\r\n",
        "3. What does “immutable” mean, and which three of Python’s core types are considered immutable?\r\n",
        "4. What does “sequence” mean, and which three types fall into that category?\r\n",
        "5. What does “mapping” mean, and which core type is a mapping?\r\n",
        "6. What is “polymorphism,” and why should you care?\r\n",
        "\r\n",
        "\r\n",
        "\r\n"
      ]
    },
    {
      "cell_type": "markdown",
      "metadata": {
        "id": "6kafgQs5S8WY"
      },
      "source": [
        "**Projects:-**<br>\r\n",
        "1. Open a Python shell, enter the following expressions, and observe the results:<br>\r\n",
        "a. 8<br>\r\n",
        "b. 8 * 2<br>\r\n",
        "c. 8 ** 2<br>\r\n",
        "d. 8/12<br>\r\n",
        "e. 8 // 12<br>\r\n",
        "f. 8/0"
      ]
    },
    {
      "cell_type": "code",
      "metadata": {
        "id": "M0vvPpdkTWOZ"
      },
      "source": [
        "\r\n",
        "a=8\r\n",
        "b=2\r\n",
        "c=12\r\n",
        "d=0\r\n",
        "print(a*b)\r\n",
        "print(a**b)\r\n",
        "print(a/c)\r\n",
        "print(a//c)\r\n",
        "print(a/d)"
      ],
      "execution_count": null,
      "outputs": []
    },
    {
      "cell_type": "markdown",
      "metadata": {
        "id": "ySRylLzXTg4L"
      },
      "source": [
        "2. Write a Python program that prints (displays) your name, address, and telephone number"
      ]
    },
    {
      "cell_type": "code",
      "metadata": {
        "id": "IC-e8BmAUMex"
      },
      "source": [
        "print(input(\"Enter your name: \"))\r\n",
        "print(input(\"Enter your address: \"))\r\n",
        "print(int(input(\"Enter Phone number: \")))"
      ],
      "execution_count": null,
      "outputs": []
    },
    {
      "cell_type": "markdown",
      "metadata": {
        "id": "H-t99QCLUNap"
      },
      "source": [
        "3. Evaluate the following code at a shell prompt: print(\"Your name is\", name). Then assign name an appropriate value, and evaluate the statement again."
      ]
    },
    {
      "cell_type": "code",
      "metadata": {
        "id": "dXcXgJUSUhwR"
      },
      "source": [
        " print(\"Your name is\", name)"
      ],
      "execution_count": null,
      "outputs": []
    },
    {
      "cell_type": "markdown",
      "metadata": {
        "id": "qjgWML-AUi-v"
      },
      "source": [
        "4. Write and test a program that accepts the user's name(as text) and age(as a number) as input. The program should output a sentense containing the user's name and age."
      ]
    },
    {
      "cell_type": "code",
      "metadata": {
        "id": "a3yt3ND1WkF0"
      },
      "source": [
        "name= str(input(\"Enter your name:\"))\r\n",
        "age = int(input(\"How old are you? \"))\r\n",
        "print(name +\" \"+ str(age))"
      ],
      "execution_count": null,
      "outputs": []
    },
    {
      "cell_type": "markdown",
      "metadata": {
        "id": "Fw-qO1W9WlGW"
      },
      "source": [
        "5. Write and test a program that computes the area of a circle. This program should request a number representing  a radius as input from the user. It should use the formula 3.14*radius**2 to compute the area and then output this result suitably labeled."
      ]
    },
    {
      "cell_type": "code",
      "metadata": {
        "id": "PwqzW8U-W8fB"
      },
      "source": [
        "r=int(input(\"Input radius: \"))\r\n",
        "a=3.14\r\n",
        "b=2\r\n",
        "print(\"The area of circle is: \")\r\n",
        "print(a*r*b)"
      ],
      "execution_count": null,
      "outputs": []
    },
    {
      "cell_type": "markdown",
      "metadata": {
        "id": "roHMT8eHXDFg"
      },
      "source": [
        "6. Enter an input statement using the input function at the shll prompt. When the prompt asks you for input, enter a number. Then, attempt to add 1 to that number, observe the results and explain what happened."
      ]
    },
    {
      "cell_type": "code",
      "metadata": {
        "id": "Y9danKsrXXLJ"
      },
      "source": [
        "a=int(input(\"enter the number: \"))\r\n",
        "b=a+1\r\n",
        "print(b)"
      ],
      "execution_count": null,
      "outputs": []
    },
    {
      "cell_type": "markdown",
      "metadata": {
        "id": "-ud9b4rIXdyO"
      },
      "source": [
        "7. Enter the expression help() at the shell prompt. Follow the instructions to browse the topics and modules."
      ]
    },
    {
      "cell_type": "code",
      "metadata": {
        "id": "Q6DP_R5hXmmS"
      },
      "source": [
        "help()"
      ],
      "execution_count": null,
      "outputs": []
    },
    {
      "cell_type": "markdown",
      "metadata": {
        "id": "Mh0jLr5HYCzo"
      },
      "source": [
        "8. The tax calculator program of the case study outputs a floating-point number that might show more than two digits of precision. Use the round function to modify the program to display at most two digits of precision in the output number."
      ]
    },
    {
      "cell_type": "code",
      "metadata": {
        "id": "6JN4PaojYEK4"
      },
      "source": [
        ""
      ],
      "execution_count": null,
      "outputs": []
    },
    {
      "cell_type": "markdown",
      "metadata": {
        "id": "SeHW1j9kYF8Q"
      },
      "source": [
        "9. You can calculate the surface area of a cube if you know the length of an edge. Write a program that takes the length of an edge(an integer) as input and prints the cube's surface area as output."
      ]
    },
    {
      "cell_type": "code",
      "metadata": {
        "id": "otcAXgxxYkx6"
      },
      "source": [
        "a=int(input(\"enetr the number: \"))\r\n",
        "surfaceArea=6*a**2\r\n",
        "print(surfaceArea)"
      ],
      "execution_count": null,
      "outputs": []
    },
    {
      "cell_type": "markdown",
      "metadata": {
        "id": "O3379lCKYlcr"
      },
      "source": [
        "10.Five Star Retro Video rents VHS tapes and DVDs to the same connoisseurs who like to buy LP record albums. The store rents new videos for $3.00 a night, and oldies for $2.00 a night.\r\n",
        "\r\n",
        "Write a program that the clerks at Five Star Retro Video can use to calculate the total charge for a customer’s video rentals.\r\n",
        "\r\n",
        "The program should prompt the user for the number of each type of video and output the total cost."
      ]
    },
    {
      "cell_type": "code",
      "metadata": {
        "id": "kKoIAmUpY4dY"
      },
      "source": [
        "newVideos = int(input(\"Enter the number of new videos: \"))\r\n",
        "oldVideos = int(input(\"Enter the number of old videos: \"))\r\n",
        "result = (newVideos*3.00) + (oldVideos*2.00)\r\n",
        "print(\"The total cost is:\" ,result)"
      ],
      "execution_count": null,
      "outputs": []
    },
    {
      "cell_type": "markdown",
      "metadata": {
        "id": "oBQWzZuoY9dH"
      },
      "source": [
        "11. Write a program that takes the radius of a sphere(a floating point number) as input and then outputs the sphere's diameter, circumference, surface area and volume."
      ]
    },
    {
      "cell_type": "code",
      "metadata": {
        "id": "MNAlLLYrbatP"
      },
      "source": [
        "r= float(input('Radius of sphere: '))\r\n",
        "p=3.14\r\n",
        "diameter=2*r\r\n",
        "circumference =2 * p * r\r\n",
        "surfaceArea = 4 * p * r \r\n",
        "volume = (4/3) * (p * r ** 3)\r\n",
        "print(\"Diameter is: \" , diameter)\r\n",
        "print(\"Circumference is: \" , circumference)\r\n",
        "print(\"Surface Area is: \", surfaceArea)\r\n",
        "print(\"Volume is: \", volume)"
      ],
      "execution_count": null,
      "outputs": []
    },
    {
      "cell_type": "markdown",
      "metadata": {
        "id": "zOx3W9G8bb_2"
      },
      "source": [
        "12. Instructions An object's momentum is its mass multiplied by its velocity. Write a program that accepts an object's mass (in kilograms) and velocity (in meters per second) as inputs, and then outputs its momentum."
      ]
    },
    {
      "cell_type": "code",
      "metadata": {
        "id": "hlYAuUajdI0X"
      },
      "source": [
        "m = float(input(\"Enter Object's mass: \"))\r\n",
        "v = float(input(\"Enter Object's velocity: \"))\r\n",
        "p = m*v\r\n",
        "print(\"Momentum of Object is: \" , p)"
      ],
      "execution_count": null,
      "outputs": []
    },
    {
      "cell_type": "markdown",
      "metadata": {
        "id": "jU4yPCcrdf0D"
      },
      "source": [
        "13. The kinetic energy of a moving object is given by the formula KE = ½mv2 where m is the object’s mass and v is its velocity.\r\n",
        "\r\n",
        "Modify the program you created in Project 5 so that it prints the object’s kinetic energy as well as its momentum."
      ]
    },
    {
      "cell_type": "code",
      "metadata": {
        "id": "ocVu-KGkd9lN"
      },
      "source": [
        "m = float(input(\"Enter the object's mass in kilograms: \"))\r\n",
        "v = float(input(\"Enter the object's speed in meters per second: \"))\r\n",
        "KE = (1/2)*m*v**2\r\n",
        "print(\"The object has \" , KE , \" joules of energy.\")"
      ],
      "execution_count": null,
      "outputs": []
    },
    {
      "cell_type": "markdown",
      "metadata": {
        "id": "KGUdbd0Od-TE"
      },
      "source": [
        "14. An employee’s total weekly pay equals the hourly wage multiplied by the total number of regular hours plus any overtime pay. Overtime pay equals the total overtime hours multiplied by 1.5 times the hourly wage. Write a program that takes as inputs the hourly wage, total regular hours, and total overtime hours and displays an employee’s total weekly pay."
      ]
    },
    {
      "cell_type": "code",
      "metadata": {
        "id": "d4lYL0jFekM1"
      },
      "source": [
        ""
      ],
      "execution_count": null,
      "outputs": []
    },
    {
      "cell_type": "markdown",
      "metadata": {
        "id": "ckzPe1uIlKoW"
      },
      "source": [
        "1. What are the six main reasons that people choose to use Python?\r\n",
        "\r\n",
        "\r\n",
        "     a.Readable and Maintainable Code.\r\n",
        "     b.Multiple Programming Paradigms.\r\n",
        "     c.Compatible with Major Platforms and Systems\r\n",
        "     d.Simplify Complex Software Development\r\n",
        "     e.Speed up software development and simplify software maintenance.\r\n",
        "     f.Helps to curtail software development cost significantly.\r\n",
        "\r\n",
        "\r\n",
        "\r\n",
        "    2. Name four notable companies or organizations using Python today.\r\n",
        "\r\n",
        "     1)Google\r\n",
        "     2)Spotify,\r\n",
        "     3)Netflix\r\n",
        "     5)Instagram\r\n",
        "    \r\n",
        "    \r\n",
        "    3. Why might you not want to use Python in an application?\r\n",
        "         Execution speed of application programmed in python is not as fast as that of fully compiled and lower-levellanguages such as C and C++.\r\n",
        "\r\n",
        "\r\n",
        "    4. What can you do with Python?\r\n",
        "     1)Data Mining\r\n",
        "     2)Numeric and Scientific Programming\r\n",
        "     3)Rapid Prototyping\r\n",
        "     4)Database Programming\r\n",
        "     5)Component Integration\r\n",
        "     6)Internet Scripting\r\n",
        "     7)GUIs\r\n",
        "     8)Systems Programming\r\n",
        "   \r\n",
        "    5. What’s the significance of the Python import this statement?\r\n",
        "    \r\n",
        "     Import this triggers an Easter egg inside Pythonthat displays some of the design philosophies underlying the language\r\n",
        "    \r\n",
        "    6. Why does “spam” show up in so many Python examples in books and on the Web?\r\n",
        "    \r\n",
        "   Spam is a reference from a famous Monty Python skit in which people trying to order food in a cafeteria are drowned out by a chorus of Vikings singing about spam.\r\n",
        "\r\n",
        "    7. What is your favorite color?\r\n",
        "        Black\r\n",
        "\r\n",
        "    Test Your Knowledge: Quiz\r\n",
        "    \r\n",
        "    1. What is the Python interpreter?\\n\",\r\n",
        "    \r\n",
        "  The Python interpreter is a virtual machine, meaning that it is software that emulates a physical computer.\r\n",
        "   \r\n",
        "    2. What is source code?\r\n",
        "  A text listing of commands to be compiled or assembled into an executable computer program.\r\n",
        "   \r\n",
        "    3. What is byte code?\\n\",\r\n",
        "    \r\n",
        "  Byte code is the lower-level form of your program after Python compiles it. Python automatically stores byte code in files with a .pyc extension.\r\n",
        "\r\n",
        "    4. What is the PVM?\r\n",
        "    \r\n",
        "  Once your program has been compiled to byte code (or the byte code has been loaded from existing .pyc files), it is shipped off for execution to something generally known as the Python Virtual Machine,The PVM is the runtime engine of Python,Technically, it’s just the last step of what is called the “Python interpreter.\r\n",
        "   \r\n",
        "    5. Name two or more variations on Python’s standard execution model.\r\n",
        "     CPython\r\n",
        "     Jython\r\n",
        "     IronPython\r\n",
        "     Stackless\r\n",
        "     PyPy\r\n",
        "   \r\n",
        "    6. How are CPython, Jython, and IronPython different?\r\n",
        "    \r\n",
        "  CPython is the standard implementation of the language. Jython and IronPython implement Python programs for use in Java and .NET environments, respectively they are alternative compilers for Python.\r\n",
        " \r\n",
        "    7. What are Stackless and PyPy?\r\n",
        "    \r\n",
        "  Stackless is an enhanced version of Python aimed at concurrency, and PyPy is a reimplementation of Python targeted at speed. PyPy is also the successor to Psyco and incorporates the JIT concepts that Psyco pioneered.\r\n",
        "\r\n",
        "    Test Your Knowledge: Quiz\r\n",
        "    \r\n",
        "    1. How can you start an interactive interpreter session?\r\n",
        "    \r\n",
        "  On Windows, you can type python in a DOS console window—a program namedcmd.exe and usually known as Command Prompt. For more details on starting thisprogram, see this chapter’s sidebar “Where Is Command Prompt on Windows?”\r\n",
        "   \r\n",
        "    2. Where do you type a system command line to launch a script file?\r\n",
        "  On Windows 7 and earlier, this is usually found in the Accessories section of the Start→All Programs menu, or you can run it by typing cmd in the Start→Run... dialog box or the Start menu’s search entry field. You can drag out a desktop shortcut to get to it quicker if desired.\r\n",
        "     On Windows 8, you can access Command Prompt in the menu opened by right-clicking on the preview in the screen’s lower-left corner; in the Windows System section of the “All apps” display reached by right-clicking your Start screen; or by typing cmd or command prompt in the input field of the Search charm pulled down from the screen’s upper-right corner. There are probably additional routes, and touch screens offer similar access. And if you want to forget all that, pin it to your desktop taskbar for easy access next time around.\r\n",
        "   \r\n",
        "    3. Name four or more ways to run the code saved in a script file.\r\n",
        "  Code in a script (really, module) file can be run with system command lines, file clicks, imports and reloads, the exec built-in function, and IDE GUI selections such as IDLE’s Run→Run Module menu option. On Unix, they can also be run as executables with the #! trick, and some platforms support more specialized launching techniques (e.g., drag and drop). In addition, some text editors have unique ways to run Python code, some Python programs are provided as standalone “frozen binary” executables, and some systems use Python code in embedded mode, where it is run automatically by an enclosing program written in a language like C, C++, or Java. The latter technique is usually done to provide a user customization layer.\r\n",
        "   \r\n",
        "    4. Name two pitfalls related to clicking file icons on Windows.\r\n",
        "    \r\n",
        "  Scripts that print and then exit cause the output file to disappear immediately before you can view the output (which is why the input trick comes in handy) error messages generated by your script also appear in an output window that closes before you can examine its contents (which is one reason that system command lines and IDEs such as IDLE are better for most development).\r\n",
        "  \r\n",
        "    5. Why might you need to reload a module?\r\n",
        "  \r\n",
        "  Python imports (loads) a module only once per process, by default, so if you’ve changed its source code and want to run the new version without stopping and restarting Python, you’ll have to reload it. You must import a module at least once before you can reload it. Running files of code from a system shell command line,via an icon click, or via an IDE such as IDLE generally makes this a nonissue.\r\n",
        "    6. How do you run a script from within IDLE?\r\n",
        "    \r\n",
        "  Within the text edit window of the file you wish to run, select the window’s Run→Run Module menu option. This runs the window’s source code as a top-level script file and displays its output back in the interactive Python shell window.\r\n",
        "  \r\n",
        "    7. Name two pitfalls related to using IDLE.\r\n",
        "    \r\n",
        " IDLE can still be hung by some types of programs—especially GUI programs that perform multithreading (an advanced technique beyond this book’s scope). Also,IDLE has some usability features that can burn you once you leave the IDLE GUI a script’s variables are automatically imported to the interactive scope in IDLE and working directories are changed when you run a file, for instance, but Python itself does not take such steps in general.\r\n",
        "    8. What is a namespace, and how does it relate to module files?\r\n",
        "  A namespace is just a package of variables (i.e., names). It takes the form of an object with attributes in Python. Each module file is automatically a namespace—that is, a package of variables reflecting the assignments made at the top level of the file. Namespaces help avoid name collisions in Python programs: because each module file is a self-contained namespace, files must explicitly import other files in order to use their names.\r\n",
        "  \r\n",
        "    Test Your Knowledge: Quiz\r\n",
        " \r\n",
        "    1. Name four of Python’s core data types.\r\n",
        "     Numbers\r\n",
        "     Strings\r\n",
        "     Lists\r\n",
        "     Dictionaries\r\n",
        "   \r\n",
        "    2. Why are they called “core” data types?\r\n",
        "    \r\n",
        "  They are known as “core” types because they are part of the Python language itself and are always available; to create other objects, you generally must call functions in imported modules.\r\n",
        "   \r\n",
        "    3. What does “immutable” mean, and which three of Python’s core types are considered immutable?\r\n",
        "  An “immutable” object is an object that cannot be changed after it is created.Numbers, strings, and tuples in Python fall into this category.\r\n",
        " \r\n",
        "    4. What does “sequence” mean, and which three types fall into that category?\r\n",
        "  \r\n",
        "A “sequence” is a positionally ordered collection of objects. Strings, lists, and tuples are all sequences in Python. They share common sequence operations, such as indexing, concatenation, and slicing, but also have type-specific method calls. A related term, “iterable,” means either a physical sequence, or a virtual one that produces its items on request.\r\n",
        "  \r\n",
        "    5. What does “mapping” mean, and which core type is a mapping?\r\n",
        "    \r\n",
        "The term “mapping” denotes an object that maps keys to associated values.\r\n",
        "Python’s dictionary is the only mapping type in the core type set. Mappings do not maintain any left-to-right positional ordering; they support access to data stored by key, plus type-specific method calls.\r\n",
        " \r\n",
        "    6. What is “polymorphism,” and why should you care?\r\n",
        "    \r\n",
        "  Polymorphism is the ability of an object to take on many forms.It refers to something having many forms, referring to both objects and methods. Polymorphism allows you to code to an interface that reduces coupling, increases reusability, and makes your code easier to read.\r\n",
        "  \r\n",
        "  "
      ]
    }
  ]
}